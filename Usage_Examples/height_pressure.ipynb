{
 "cells": [
  {
   "cell_type": "code",
   "execution_count": 10,
   "metadata": {},
   "outputs": [
    {
     "ename": "ModuleNotFoundError",
     "evalue": "No module named 'visjobs.datas'",
     "output_type": "error",
     "traceback": [
      "\u001b[1;31m---------------------------------------------------------------------------\u001b[0m",
      "\u001b[1;31mModuleNotFoundError\u001b[0m                       Traceback (most recent call last)",
      "\u001b[1;32m<ipython-input-10-8f93f288aebe>\u001b[0m in \u001b[0;36m<module>\u001b[1;34m\u001b[0m\n\u001b[0;32m      1\u001b[0m \u001b[1;31m#importing dependencies\u001b[0m\u001b[1;33m\u001b[0m\u001b[1;33m\u001b[0m\u001b[1;33m\u001b[0m\u001b[0m\n\u001b[1;32m----> 2\u001b[1;33m \u001b[1;32mfrom\u001b[0m \u001b[0mvisjobs\u001b[0m\u001b[1;33m.\u001b[0m\u001b[0mdatas\u001b[0m \u001b[1;32mimport\u001b[0m \u001b[0mget_data\u001b[0m\u001b[1;33m\u001b[0m\u001b[1;33m\u001b[0m\u001b[0m\n\u001b[0m\u001b[0;32m      3\u001b[0m \u001b[1;32mfrom\u001b[0m \u001b[0mvisjobs\u001b[0m\u001b[1;33m.\u001b[0m\u001b[0mvisualize\u001b[0m \u001b[1;32mimport\u001b[0m \u001b[0mdraw_map\u001b[0m\u001b[1;33m\u001b[0m\u001b[1;33m\u001b[0m\u001b[0m\n\u001b[0;32m      4\u001b[0m \u001b[1;32mimport\u001b[0m \u001b[0mxarray\u001b[0m \u001b[1;32mas\u001b[0m \u001b[0mxr\u001b[0m\u001b[1;33m\u001b[0m\u001b[1;33m\u001b[0m\u001b[0m\n\u001b[0;32m      5\u001b[0m \u001b[1;33m\u001b[0m\u001b[0m\n",
      "\u001b[1;31mModuleNotFoundError\u001b[0m: No module named 'visjobs.datas'"
     ]
    }
   ],
   "source": [
    "#importing dependencies\n",
    "from visjobs.datas import get_data\n",
    "from visjobs.visualize import draw_map\n",
    "import xarray as xr\n",
    "import numpy as np\n",
    "\n",
    "#getting the data using pick_data function of visjobs.datas\n",
    "#hour=06 means the 06Z run of the model \n",
    "#here latest=True means the latest output with 06Z run\n",
    "#model is chosen GFS can be changed to NAM also\n",
    "#if hourly=False the GFS model will be 3 hourly -->only valid for GFS not for NAM\n",
    "data = get_data.pick_data( hour='06',latest=True,model='GFS', hourly=False)\n",
    "\n",
    "# here we are getting the desired variables with desired areas of interest,returned in dictionary\n",
    "time, area_dict = get_data.pick_area(data, total_process=2, interval=1, list_of_vars=['prmslmsl','hgtprs'],pr_height=500,\n",
    "                          list_of_areas=['australia','europe'])\n",
    "\n",
    "#let's say I want to plot 500mb heights and mslp for Australia\n",
    "#so in the upper part I got the relevant data using pick_area function\n",
    "#so let's wrap the data:\n",
    "\n",
    "press = np.divide(area_dict['australia'][0], 100)\n",
    "heightprs = area_dict['australia'][1]\n",
    "\n",
    "\n",
    "\n"
   ]
  },
  {
   "cell_type": "code",
   "execution_count": 9,
   "metadata": {},
   "outputs": [
    {
     "ename": "NameError",
     "evalue": "name 'draw_map' is not defined",
     "output_type": "error",
     "traceback": [
      "\u001b[1;31m---------------------------------------------------------------------------\u001b[0m",
      "\u001b[1;31mNameError\u001b[0m                                 Traceback (most recent call last)",
      "\u001b[1;32m<ipython-input-9-bb4cfe221ff1>\u001b[0m in \u001b[0;36m<module>\u001b[1;34m\u001b[0m\n\u001b[0;32m     13\u001b[0m \u001b[1;31m# here tl5 is used to change the position of owner_name\u001b[0m\u001b[1;33m\u001b[0m\u001b[1;33m\u001b[0m\u001b[1;33m\u001b[0m\u001b[0m\n\u001b[0;32m     14\u001b[0m \u001b[1;31m#owner_name plots the upper-left sign.\u001b[0m\u001b[1;33m\u001b[0m\u001b[1;33m\u001b[0m\u001b[1;33m\u001b[0m\u001b[0m\n\u001b[1;32m---> 15\u001b[1;33m draw_map.height_pressure(time, press, heightprs ,pr_height='500', place='europe',\n\u001b[0m\u001b[0;32m     16\u001b[0m                           \u001b[0msave_where\u001b[0m\u001b[1;33m=\u001b[0m\u001b[1;34mr'C:\\Users\\Kutay\\###PROPER CODE LIBRARY###\\Pictures\\height_prs{}.png'\u001b[0m\u001b[1;33m,\u001b[0m \u001b[0mbreaking\u001b[0m\u001b[1;33m=\u001b[0m\u001b[1;32mTrue\u001b[0m\u001b[1;33m,\u001b[0m\u001b[1;33m\u001b[0m\u001b[1;33m\u001b[0m\u001b[0m\n\u001b[0;32m     17\u001b[0m                           \u001b[0mtitle_on\u001b[0m\u001b[1;33m=\u001b[0m\u001b[1;32mTrue\u001b[0m \u001b[1;33m,\u001b[0m\u001b[0mowner_name\u001b[0m\u001b[1;33m=\u001b[0m\u001b[1;34m'Kutay DÖNMEZ'\u001b[0m\u001b[1;33m,\u001b[0m\u001b[0mplot_main_title\u001b[0m\u001b[1;33m=\u001b[0m\u001b[1;33m\u001b[0m\u001b[1;33m\u001b[0m\u001b[0m\n",
      "\u001b[1;31mNameError\u001b[0m: name 'draw_map' is not defined"
     ]
    }
   ],
   "source": [
    "#choosing the desired plot size\n",
    "import numpy as np\n",
    "from pylab import rcParams\n",
    "rcParams['figure.figsize'] = 21,24\n",
    "\n",
    "#place='europe' indicates the basin that user want to show as a plot.\n",
    "#places avaliable for plotting\n",
    "#places= np.array(['europe','northamerica','australia','gulfofmexico','carribeans','indianocean'])\n",
    "#if breaking=True only a single map will be created even if a bunch of time is introduced \n",
    "#if title_on=False the title will be missed\n",
    "#if the title_on=True, title will be plotted and one can change it posisition arguments using\n",
    "#tl1,tl2,tl3 etc. parameters.\n",
    "# here tl5 is used to change the position of owner_name\n",
    "#owner_name plots the upper-left sign.\n",
    "draw_map.height_pressure(time, press, heightprs ,pr_height='500', place='australia',\n",
    "                          save_where=r'C:\\Users\\Kutay\\###PROPER CODE LIBRARY###\\Pictures\\height_prs{}.png', breaking=True, \n",
    "                          title_on=True ,owner_name='Kutay DÖNMEZ',plot_main_title=\n",
    "                         r'GFS 500mb Geopotential Height(m) | Presssure(mb)',\n",
    "                         tl5=[0.0047, 0.97100], tl1=[0,1.032])"
   ]
  },
  {
   "cell_type": "code",
   "execution_count": null,
   "metadata": {},
   "outputs": [],
   "source": []
  }
 ],
 "metadata": {
  "kernelspec": {
   "display_name": "Python 3",
   "language": "python",
   "name": "python3"
  },
  "language_info": {
   "codemirror_mode": {
    "name": "ipython",
    "version": 3
   },
   "file_extension": ".py",
   "mimetype": "text/x-python",
   "name": "python",
   "nbconvert_exporter": "python",
   "pygments_lexer": "ipython3",
   "version": "3.7.4"
  }
 },
 "nbformat": 4,
 "nbformat_minor": 4
}
