{
 "cells": [
  {
   "cell_type": "code",
   "execution_count": 1,
   "metadata": {},
   "outputs": [],
   "source": [
    "from visjobs.datas import get_data\n",
    "from visjobs.windenergy import wind_parameters"
   ]
  },
  {
   "cell_type": "code",
   "execution_count": 3,
   "metadata": {},
   "outputs": [],
   "source": [
    "data = get_data.pick_data( year='2020', month='03', day='24', hour='12',latest=False,model='GFS', hourly=False)"
   ]
  },
  {
   "cell_type": "code",
   "execution_count": 4,
   "metadata": {},
   "outputs": [],
   "source": [
    "#variables\n",
    "A = 5281 #m2\n",
    "R = 286.7 # N*m /(mol*K)\n",
    "cp=0.59\n",
    "prs80 = 100367.63 #Pa\n",
    "\n",
    "\n",
    "# here we are getting the desired variables with desired areas of interest,returned in dictionary\n",
    "time, area_dict = get_data.pick_area(data, total_process=2, interval=1, list_of_vars=['tmp80m','ugrd80m','vgrd80m'],\n",
    "                                     pr_height=[1000,500],\n",
    "                          list_of_areas=['australia','europe'])\n",
    "\n",
    "tmp80m = area_dict['australia'][0]\n",
    "uwind80 = area_dict['australia'][1]\n",
    "vwind80 = area_dict['australia'][2]\n",
    "\n"
   ]
  },
  {
   "cell_type": "code",
   "execution_count": 5,
   "metadata": {},
   "outputs": [],
   "source": [
    "#calculating density\n",
    "density = wind_parameters.calculating_density_height(uwind80, vwind80, tmp80, prs80, cp, R)"
   ]
  },
  {
   "cell_type": "code",
   "execution_count": 6,
   "metadata": {},
   "outputs": [],
   "source": [
    "#calculating wind speed in m/s from u and v winds\n",
    "ws = wind_parameters.uv_to_ws(uwind80, vwind80)"
   ]
  },
  {
   "cell_type": "code",
   "execution_count": 7,
   "metadata": {},
   "outputs": [],
   "source": [
    "#limiting wind speed values in regard to cut_in, cut_out etc. turbine dependent values\n",
    "ws_limited = wind_parameters.limiting_wind_speed(ws, cut_in=3, cut_out=25, rated_wind_speed=13)"
   ]
  },
  {
   "cell_type": "code",
   "execution_count": 8,
   "metadata": {},
   "outputs": [],
   "source": [
    "power = wind_parameters.calculating_power_output(density, ws_limited, cp, A, rated_power=1.5)"
   ]
  },
  {
   "cell_type": "code",
   "execution_count": null,
   "metadata": {},
   "outputs": [],
   "source": []
  },
  {
   "cell_type": "code",
   "execution_count": null,
   "metadata": {},
   "outputs": [],
   "source": []
  }
 ],
 "metadata": {
  "kernelspec": {
   "display_name": "Python 3",
   "language": "python",
   "name": "python3"
  },
  "language_info": {
   "codemirror_mode": {
    "name": "ipython",
    "version": 3
   },
   "file_extension": ".py",
   "mimetype": "text/x-python",
   "name": "python",
   "nbconvert_exporter": "python",
   "pygments_lexer": "ipython3",
   "version": "3.7.4"
  }
 },
 "nbformat": 4,
 "nbformat_minor": 4
}
