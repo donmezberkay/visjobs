{
 "cells": [
  {
   "cell_type": "code",
   "execution_count": 1,
   "metadata": {},
   "outputs": [],
   "source": [
    "from visjobs.datas import get_data\n",
    "from visjobs.windenergy import wind_parameters"
   ]
  },
  {
   "cell_type": "code",
   "execution_count": 3,
   "metadata": {},
   "outputs": [],
   "source": [
    "data = get_data.pick_data( year='2020', month='03', day='24', hour='12',latest=False,model='GFS', hourly=False)"
   ]
  },
  {
   "cell_type": "code",
   "execution_count": 4,
   "metadata": {},
   "outputs": [],
   "source": [
    "#variables\n",
    "A = 5281 #m2\n",
    "R = 286.7 # N*m /(mol*K)\n",
    "cp=0.59\n",
    "prs80 = 100367.63 #Pa\n",
    "tmp80 = data['tmp80m'][:2,:,:].sel(lat = slice(34,43),lon=slice(25,45)) # K\n",
    "uwind80 = data['ugrd80m'][:2,:,:].sel(lat = slice(34,43),lon=slice(25,45)) # m/s\n",
    "vwind80 = data['vgrd80m'][:2,:,:].sel(lat = slice(34,43),lon=slice(25,45)) # m/s\n",
    "lon_iso =uwind80.lon[:].values\n",
    "lat_iso = uwind80.lat[:].values\n",
    "time = len(data['time'][:2])"
   ]
  },
  {
   "cell_type": "code",
   "execution_count": 5,
   "metadata": {},
   "outputs": [],
   "source": [
    "#calculating density\n",
    "density = wind_parameters.calculating_density_height(uwind80, vwind80, tmp80, prs80, cp, R)"
   ]
  },
  {
   "cell_type": "code",
   "execution_count": 6,
   "metadata": {},
   "outputs": [],
   "source": [
    "#calculating wind speed in m/s from u and v winds\n",
    "ws = wind_parameters.uv_to_ws(uwind80, vwind80)"
   ]
  },
  {
   "cell_type": "code",
   "execution_count": 7,
   "metadata": {},
   "outputs": [],
   "source": [
    "#limiting wind speed values in regard to cut_in, cut_out etc. turbine dependent values\n",
    "ws_limited = wind_parameters.limiting_wind_speed(ws, cut_in=3, cut_out=25, rated_wind_speed=13)"
   ]
  },
  {
   "cell_type": "code",
   "execution_count": 8,
   "metadata": {},
   "outputs": [],
   "source": [
    "power = wind_parameters.calculating_power_output(density, ws_limited, cp, A, rated_power=1.5)"
   ]
  },
  {
   "cell_type": "code",
   "execution_count": null,
   "metadata": {},
   "outputs": [],
   "source": []
  },
  {
   "cell_type": "code",
   "execution_count": null,
   "metadata": {},
   "outputs": [],
   "source": []
  }
 ],
 "metadata": {
  "kernelspec": {
   "display_name": "Python 3",
   "language": "python",
   "name": "python3"
  },
  "language_info": {
   "codemirror_mode": {
    "name": "ipython",
    "version": 3
   },
   "file_extension": ".py",
   "mimetype": "text/x-python",
   "name": "python",
   "nbconvert_exporter": "python",
   "pygments_lexer": "ipython3",
   "version": "3.7.4"
  }
 },
 "nbformat": 4,
 "nbformat_minor": 4
}
